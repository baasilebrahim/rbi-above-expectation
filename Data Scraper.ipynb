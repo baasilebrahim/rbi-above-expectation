{
 "cells": [
  {
   "cell_type": "code",
   "execution_count": null,
   "metadata": {},
   "outputs": [],
   "source": [
    "import pandas as pd\n",
    "from pybaseball import statcast\n",
    "from pybaseball import playerid_lookup\n",
    "import warnings\n",
    "warnings.filterwarnings('ignore')\n",
    "%pylab inline"
   ]
  },
  {
   "cell_type": "code",
   "execution_count": null,
   "metadata": {},
   "outputs": [],
   "source": [
    "# Scrape data\n",
    "\n",
    "# Need start and end dates for each of the last 5 seasons from 2017-21\n",
    "# Playoffs and Post-Season\n",
    "\n",
    "rs_start = ['2017-04-02',\n",
    "               '2018-03-29',\n",
    "               '2019-03-28',\n",
    "               '2020-07-23',\n",
    "               '2021-04-01']\n",
    "\n",
    "rs_end = ['2017-10-02',\n",
    "           '2018-10-01',\n",
    "           '2019-09-28',\n",
    "           '2020-09-27',\n",
    "           '2021-10-03']\n",
    "\n",
    "ps_start = ['2017-10-03',\n",
    "           '2018-10-02',\n",
    "           '2019-10-01',\n",
    "           '2020-08-29',\n",
    "           '2021-10-05']\n",
    "\n",
    "ps_end = ['2017-11-01',\n",
    "          '2018-10-28',\n",
    "           '2019-10-30',\n",
    "           '2020-10-27',\n",
    "           '2021-11-02']\n",
    "\n",
    "rs2017 = statcast(start_dt=rs_start[0], end_dt=rs_end[0],verbose = False)\n",
    "rs2018 = statcast(start_dt=rs_start[1], end_dt=rs_end[1],verbose = False)\n",
    "rs2019 = statcast(start_dt=rs_start[2], end_dt=rs_end[2],verbose = False)\n",
    "rs2020 = statcast(start_dt=rs_start[3], end_dt=rs_end[3],verbose = False)\n",
    "rs2021 = statcast(start_dt=rs_start[4], end_dt=rs_end[4],verbose = False)\n",
    "\n",
    "rs_dfs = [rs2017,rs2018,rs2019,rs2020,rs2021]\n",
    "\n",
    "rs = pd.concat(rs_dfs,ignore_index = True, axis = 0)\n",
    "\n",
    "rs = rs.drop('index', axis = 1)\n",
    "\n",
    "rs.to_csv('regular_szn_data.csv',index = False)\n",
    "\n",
    "ps2017 = statcast(start_dt=ps_start[0], end_dt=ps_end[0],verbose = False)\n",
    "ps2018 = statcast(start_dt=ps_start[1], end_dt=ps_end[1],verbose = False)\n",
    "ps2019 = statcast(start_dt=ps_start[2], end_dt=ps_end[2],verbose = False)\n",
    "ps2020 = statcast(start_dt=ps_start[3], end_dt=ps_end[3],verbose = False)\n",
    "ps2021 = statcast(start_dt=ps_start[4], end_dt=ps_end[4],verbose = False)\n",
    "\n",
    "ps_dfs = [ps2017,ps2018,ps2019,ps2020,ps2021]\n",
    "\n",
    "ps = pd.concat(ps_dfs,ignore_index = True, axis = 0)\n",
    "\n",
    "ps = ps.drop('index', axis = 1)\n",
    "\n",
    "ps.to_csv('post_szn_data.csv',index = False)"
   ]
  },
  {
   "cell_type": "code",
   "execution_count": null,
   "metadata": {},
   "outputs": [],
   "source": []
  }
 ],
 "metadata": {
  "kernelspec": {
   "display_name": "Python 3",
   "language": "python",
   "name": "python3"
  },
  "language_info": {
   "codemirror_mode": {
    "name": "ipython",
    "version": 3
   },
   "file_extension": ".py",
   "mimetype": "text/x-python",
   "name": "python",
   "nbconvert_exporter": "python",
   "pygments_lexer": "ipython3",
   "version": "3.7.4"
  }
 },
 "nbformat": 4,
 "nbformat_minor": 2
}
